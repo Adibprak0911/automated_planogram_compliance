{
 "cells": [
  {
   "cell_type": "markdown",
   "metadata": {},
   "source": [
    "importing libraries"
   ]
  },
  {
   "cell_type": "code",
   "execution_count": null,
   "metadata": {},
   "outputs": [],
   "source": []
  },
  {
   "cell_type": "code",
   "execution_count": 2,
   "metadata": {},
   "outputs": [],
   "source": [
    "import os\n"
   ]
  },
  {
   "cell_type": "markdown",
   "metadata": {},
   "source": [
    "printing data"
   ]
  },
  {
   "cell_type": "code",
   "execution_count": 13,
   "metadata": {},
   "outputs": [
    {
     "name": "stdout",
     "output_type": "stream",
     "text": [
      "hello world\n",
      "5\n"
     ]
    },
    {
     "data": {
      "text/plain": [
       "int"
      ]
     },
     "execution_count": 13,
     "metadata": {},
     "output_type": "execute_result"
    }
   ],
   "source": [
    "print(\"hello world\")\n",
    "a = 5\n",
    "print (a)\n",
    "id(a)\n",
    "type(a)\n"
   ]
  },
  {
   "cell_type": "code",
   "execution_count": 12,
   "metadata": {},
   "outputs": [
    {
     "name": "stdout",
     "output_type": "stream",
     "text": [
      "5\n"
     ]
    },
    {
     "data": {
      "text/plain": [
       "47"
      ]
     },
     "execution_count": 12,
     "metadata": {},
     "output_type": "execute_result"
    }
   ],
   "source": [
    "a = '5'\n",
    "print(a)\n",
    "id(a)\n",
    "type(a)\n",
    "import sys\n",
    "sys.getrefcount(a)"
   ]
  },
  {
   "cell_type": "code",
   "execution_count": 1,
   "metadata": {},
   "outputs": [
    {
     "name": "stdout",
     "output_type": "stream",
     "text": [
      "h\n",
      "e\n",
      "l\n",
      "l\n",
      "o\n"
     ]
    }
   ],
   "source": [
    "for char in \"hello\":\n",
    "    print(char)\n"
   ]
  },
  {
   "cell_type": "code",
   "execution_count": 2,
   "metadata": {},
   "outputs": [
    {
     "name": "stdout",
     "output_type": "stream",
     "text": [
      "0\n",
      "1\n",
      "2\n",
      "3\n",
      "4\n"
     ]
    }
   ],
   "source": [
    "for i in range(5):\n",
    "    print(i)"
   ]
  },
  {
   "cell_type": "code",
   "execution_count": 3,
   "metadata": {},
   "outputs": [
    {
     "name": "stdout",
     "output_type": "stream",
     "text": [
      "1\n",
      "3\n",
      "5\n",
      "7\n",
      "9\n"
     ]
    }
   ],
   "source": [
    "for i in range(1, 10, 2):  # Start at 1, end before 10, step by 2\n",
    "    print(i)\n"
   ]
  },
  {
   "cell_type": "code",
   "execution_count": 4,
   "metadata": {},
   "outputs": [
    {
     "name": "stdout",
     "output_type": "stream",
     "text": [
      "1 2 3 \n",
      "4 5 6 \n",
      "7 8 9 \n"
     ]
    }
   ],
   "source": [
    "matrix = [[1, 2, 3], [4, 5, 6], [7, 8, 9]]\n",
    "for row in matrix:\n",
    "    for element in row:\n",
    "        print(element, end=\" \")\n",
    "    print()  # Newline after each row\n"
   ]
  },
  {
   "cell_type": "code",
   "execution_count": 1,
   "metadata": {},
   "outputs": [
    {
     "data": {
      "text/plain": [
       "11"
      ]
     },
     "execution_count": 1,
     "metadata": {},
     "output_type": "execute_result"
    }
   ],
   "source": [
    "fout = open(\"name.csv\", mode = 'w', encoding = 'utf8') #the file handle will be saved in fout   \n",
    "fout.write('name, age \\n') #returns the number of bytes that it wrote\n",
    "fout.close()"
   ]
  },
  {
   "cell_type": "code",
   "execution_count": 3,
   "metadata": {},
   "outputs": [],
   "source": [
    "with open(\"name.csv\", mode = 'w', encoding = 'utf8') as fout:\n",
    "    fout.write('name, age \\n')  \n"
   ]
  },
  {
   "cell_type": "code",
   "execution_count": 4,
   "metadata": {},
   "outputs": [
    {
     "data": {
      "text/plain": [
       "'name, age \\n'"
      ]
     },
     "execution_count": 4,
     "metadata": {},
     "output_type": "execute_result"
    }
   ],
   "source": [
    "with open(\"name.csv\", encoding = 'utf8') as fin:\n",
    "    data = fin.read()\n",
    "data"
   ]
  },
  {
   "cell_type": "code",
   "execution_count": 7,
   "metadata": {},
   "outputs": [
    {
     "data": {
      "text/plain": [
       "b'n'"
      ]
     },
     "execution_count": 7,
     "metadata": {},
     "output_type": "execute_result"
    }
   ],
   "source": [
    "with open(\"name.csv\", mode = 'rb') as fin:\n",
    "    onebyte = fin.read(1)\n",
    "    tenbytes = fin.read(10)\n",
    "onebyte\n"
   ]
  },
  {
   "cell_type": "code",
   "execution_count": 8,
   "metadata": {},
   "outputs": [
    {
     "data": {
      "text/plain": [
       "'ame, age \\n'"
      ]
     },
     "execution_count": 8,
     "metadata": {},
     "output_type": "execute_result"
    }
   ],
   "source": [
    "with open(\"name.csv\", mode = 'rb') as fin:\n",
    "    onebyte = fin.read(1)\n",
    "    tenbytes = fin.read(10)\n",
    "tenbytes.decode('utf8')"
   ]
  },
  {
   "cell_type": "code",
   "execution_count": 10,
   "metadata": {},
   "outputs": [],
   "source": [
    "with open(\"unigreeting.txt\", 'w', encoding = 'utf8') as fout:\n",
    "    fout.write('Hello \\n{GRINNING FACE}')"
   ]
  },
  {
   "cell_type": "code",
   "execution_count": 9,
   "metadata": {},
   "outputs": [
    {
     "data": {
      "text/plain": [
       "'Hello \\n{GRINNING FACE}'"
      ]
     },
     "execution_count": 9,
     "metadata": {},
     "output_type": "execute_result"
    }
   ],
   "source": [
    "with open(\"unigreeting.txt\", 'w', encoding = 'utf8') as fout:\n",
    "    fout.write('Hello \\n{GRINNING FACE}')\n",
    "greeting = open('unigreeting.txt', 'r', encoding = 'utf8').read()\n",
    "greeting"
   ]
  },
  {
   "cell_type": "code",
   "execution_count": 12,
   "metadata": {},
   "outputs": [
    {
     "data": {
      "text/plain": [
       "'Hello \\n{GRINNING FACE}'"
      ]
     },
     "execution_count": 12,
     "metadata": {},
     "output_type": "execute_result"
    }
   ],
   "source": [
    "greeting = open('unigreeting.txt', 'r', encoding = 'windows_1252').read()\n",
    "greeting\n",
    "greeting.encode('windows_1252').decode('utf8')"
   ]
  },
  {
   "cell_type": "code",
   "execution_count": 13,
   "metadata": {},
   "outputs": [
    {
     "data": {
      "text/plain": [
       "[0, 1, 2, 3]"
      ]
     },
     "execution_count": 13,
     "metadata": {},
     "output_type": "execute_result"
    }
   ],
   "source": [
    "vals = list(range(4))\n",
    "vals"
   ]
  },
  {
   "cell_type": "code",
   "execution_count": 28,
   "metadata": {},
   "outputs": [
    {
     "data": {
      "text/plain": [
       "[(0, 'kevin'), (1, 'George'), (2, 'ringo')]"
      ]
     },
     "execution_count": 28,
     "metadata": {},
     "output_type": "execute_result"
    }
   ],
   "source": [
    "names = ['kevin', 'george']\n",
    "names\n",
    "names.append('ringo')\n",
    "names\n",
    "names.index('kevin')\n",
    "names.__getitem__(1)\n",
    "names[1]\n",
    "names[1] = 'George'\n",
    "names\n",
    "'george' in names\n",
    "enumerate(names)\n",
    "list(enumerate(names))"
   ]
  },
  {
   "cell_type": "code",
   "execution_count": 31,
   "metadata": {},
   "outputs": [
    {
     "data": {
      "text/plain": [
       "[(-3, 'kevin'), (-2, 'George'), (-1, 'ringo')]"
      ]
     },
     "execution_count": 31,
     "metadata": {},
     "output_type": "execute_result"
    }
   ],
   "source": [
    "list((i-len(names),n)\n",
    "    for i, n in enumerate(names))"
   ]
  },
  {
   "cell_type": "code",
   "execution_count": 36,
   "metadata": {},
   "outputs": [
    {
     "data": {
      "text/plain": [
       "['ringo']"
      ]
     },
     "execution_count": 36,
     "metadata": {},
     "output_type": "execute_result"
    }
   ],
   "source": [
    "list((i-len(names),n)\n",
    "    for i, n in enumerate(names))\n",
    "names[0]\n",
    "names[-1]\n",
    "names[0:2]\n",
    "names[:2]\n",
    "names[0:]\n",
    "names[2:]"
   ]
  },
  {
   "cell_type": "code",
   "execution_count": 39,
   "metadata": {},
   "outputs": [
    {
     "name": "stdout",
     "output_type": "stream",
     "text": [
      "[1, 3, 5, 7]\n"
     ]
    }
   ],
   "source": [
    "numbers = [0, 1, 2, 3, 4, 5, 6, 7, 8, 9]\n",
    "slice4 = numbers[1:8:2]  # Extracts every second element from index 1 to 7\n",
    "print(slice4)  # Output: [1, 3, 5, 7]"
   ]
  },
  {
   "cell_type": "code",
   "execution_count": 50,
   "metadata": {},
   "outputs": [
    {
     "name": "stdout",
     "output_type": "stream",
     "text": [
      "world\n",
      "ld!\n"
     ]
    }
   ],
   "source": [
    "text = \"Hello, world!\"\n",
    "slice1 = text[7:12]\n",
    "print(slice1)  # Output: \"world\"\n",
    "print(text[-3:])"
   ]
  },
  {
   "cell_type": "code",
   "execution_count": 41,
   "metadata": {},
   "outputs": [
    {
     "name": "stdout",
     "output_type": "stream",
     "text": [
      "[5, 6, 7, 8, 9]\n",
      "[9, 8, 7, 6, 5, 4, 3, 2, 1, 0]\n"
     ]
    }
   ],
   "source": [
    "numbers = [0, 1, 2, 3, 4, 5, 6, 7, 8, 9]\n",
    "slice5 = numbers[-5:]  # Extracts the last 5 elements\n",
    "print(slice5)  # Output: [5, 6, 7, 8, 9]\n",
    "\n",
    "slice6 = numbers[::-1]  # Reverses the list\n",
    "print(slice6)  # Output: [9, 8, 7, 6, 5, 4, 3, 2, 1, 0]"
   ]
  },
  {
   "cell_type": "code",
   "execution_count": 42,
   "metadata": {},
   "outputs": [
    {
     "data": {
      "text/plain": [
       "[5, 4, 3, 2, 1, 0]"
      ]
     },
     "execution_count": 42,
     "metadata": {},
     "output_type": "execute_result"
    }
   ],
   "source": [
    "numbers = [0, 1, 2, 3, 4, 5, 6, 7, 8, 9]\n",
    "slice7 = numbers[5::-1]\n",
    "slice7"
   ]
  },
  {
   "cell_type": "code",
   "execution_count": 49,
   "metadata": {},
   "outputs": [
    {
     "name": "stdout",
     "output_type": "stream",
     "text": [
      "[9]\n",
      "129521054788096\n",
      "129521054783936\n",
      "True\n",
      "True\n",
      "False\n"
     ]
    }
   ],
   "source": [
    "numbers = [0, 1, 2, 3, 4, 5, 6, 7, 8, 9]\n",
    "slice8 = numbers[:8:-1]\n",
    "print(slice8)\n",
    "print(id(numbers))\n",
    "numbers2 = numbers[:]\n",
    "print(id(numbers2))\n",
    "print(numbers[-1] is numbers2[-1])\n",
    "print(numbers == numbers2) #do they have the same values? Yes, they do\n",
    "print(numbers is numbers2) #are they the same lists, are their ids the same? No"
   ]
  },
  {
   "cell_type": "code",
   "execution_count": 56,
   "metadata": {},
   "outputs": [
    {
     "name": "stdout",
     "output_type": "stream",
     "text": [
      "['damon', 'John', 'Paul', 'Matt']\n"
     ]
    }
   ],
   "source": [
    "names = ['john', 'paul', 'leo', 'matt', 'kevin', 'george']\n",
    "names2 = ['damon']\n",
    "for name in names:\n",
    "    if len(name) == 4: #filter\n",
    "        names2.append(name.title()) #mapping\n",
    "print(names2)"
   ]
  },
  {
   "cell_type": "code",
   "execution_count": 53,
   "metadata": {},
   "outputs": [
    {
     "data": {
      "text/plain": [
       "['John', 'Paul', 'Matt']"
      ]
     },
     "execution_count": 53,
     "metadata": {},
     "output_type": "execute_result"
    }
   ],
   "source": [
    "#constructing a comprehension of this would be as follows:\n",
    "names2 = [name.title() for name in names if len(name) == 4]\n",
    "names2"
   ]
  },
  {
   "cell_type": "code",
   "execution_count": 54,
   "metadata": {},
   "outputs": [
    {
     "data": {
      "text/plain": [
       "{'name': 'Name', 'age': 'Age', 'address': 'Address'}"
      ]
     },
     "execution_count": 54,
     "metadata": {},
     "output_type": "execute_result"
    }
   ],
   "source": [
    "#dictionary comprehension\n",
    "types = {'name': str, 'age': int, 'address': str}\n",
    "new_names = {}\n",
    "for t in types:\n",
    "    new_names[t] = t.title()\n",
    "new_names"
   ]
  },
  {
   "cell_type": "code",
   "execution_count": 58,
   "metadata": {},
   "outputs": [
    {
     "data": {
      "text/plain": [
       "{'name': 'Name', 'age': 'Age', 'address': 'Address'}"
      ]
     },
     "execution_count": 58,
     "metadata": {},
     "output_type": "execute_result"
    }
   ],
   "source": [
    "new_names1 = {t:t.title() for t in types} #extra t for mapping each index of types to new_names1\n",
    "new_names1"
   ]
  },
  {
   "cell_type": "code",
   "execution_count": 59,
   "metadata": {},
   "outputs": [
    {
     "data": {
      "text/plain": [
       "{'john', 'matt', 'paul'}"
      ]
     },
     "execution_count": 59,
     "metadata": {},
     "output_type": "execute_result"
    }
   ],
   "source": [
    "#set comprehensions\n",
    "uniq_names = {name for name in names if len(name) == 4}\n",
    "uniq_names"
   ]
  },
  {
   "cell_type": "code",
   "execution_count": 60,
   "metadata": {},
   "outputs": [
    {
     "data": {
      "text/plain": [
       "{'john', 'matt', 'paul'}"
      ]
     },
     "execution_count": 60,
     "metadata": {},
     "output_type": "execute_result"
    }
   ],
   "source": [
    "#generator expression / generator comprehension\n",
    "lazy_names = {name for name in names if len(name) == 4}\n",
    "lazy_names"
   ]
  },
  {
   "cell_type": "code",
   "execution_count": 70,
   "metadata": {},
   "outputs": [
    {
     "name": "stdout",
     "output_type": "stream",
     "text": [
      "-3976578768019545078\n",
      "12\n"
     ]
    },
    {
     "ename": "TypeError",
     "evalue": "unhashable type: 'list'",
     "output_type": "error",
     "traceback": [
      "\u001b[0;31m---------------------------------------------------------------------------\u001b[0m",
      "\u001b[0;31mTypeError\u001b[0m                                 Traceback (most recent call last)",
      "Cell \u001b[0;32mIn[70], line 3\u001b[0m\n\u001b[1;32m      1\u001b[0m \u001b[38;5;28mprint\u001b[39m(\u001b[38;5;28mhash\u001b[39m(\u001b[38;5;124m'\u001b[39m\u001b[38;5;124mname\u001b[39m\u001b[38;5;124m'\u001b[39m))\n\u001b[1;32m      2\u001b[0m \u001b[38;5;28mprint\u001b[39m(\u001b[38;5;28mhash\u001b[39m(\u001b[38;5;124m'\u001b[39m\u001b[38;5;124mname\u001b[39m\u001b[38;5;124m'\u001b[39m)\u001b[38;5;241m%\u001b[39m \u001b[38;5;241m30\u001b[39m)\n\u001b[0;32m----> 3\u001b[0m \u001b[38;5;28;43mhash\u001b[39;49m\u001b[43m(\u001b[49m\u001b[43m[\u001b[49m\u001b[43m]\u001b[49m\u001b[43m)\u001b[49m\n",
      "\u001b[0;31mTypeError\u001b[0m: unhashable type: 'list'"
     ]
    }
   ],
   "source": [
    "print(hash('name'))\n",
    "print(hash('name')% 30)\n",
    "#hash([])"
   ]
  },
  {
   "cell_type": "code",
   "execution_count": 85,
   "metadata": {},
   "outputs": [
    {
     "name": "stdout",
     "output_type": "stream",
     "text": [
      "{'name': <class 'str'>, 'age': <class 'int'>, 'address': <class 'str'>}\n",
      "{'name': <class 'str'>, 'age': <class 'int'>, 'address': <class 'str'>}\n",
      "<class 'str'>\n",
      "{'name': <class 'str'>, 'age': <class 'int'>, 'address': <class 'str'>, 'language': <class 'str'>}\n",
      "<class 'str'>\n",
      "True\n",
      "False\n"
     ]
    }
   ],
   "source": [
    "types = {'name': str, 'age': int, 'address': str} #literal\n",
    "types2 = dict(name = str, age = int, address = str) #constructor\n",
    "print(types)\n",
    "print(types2)\n",
    "print(types['name'])\n",
    "types['language'] = str\n",
    "print(types)\n",
    "print(types.get('name', 'missing'))\n",
    "print('name' in types)\n",
    "print('food' in types)"
   ]
  },
  {
   "cell_type": "code",
   "execution_count": 86,
   "metadata": {},
   "outputs": [
    {
     "name": "stdout",
     "output_type": "stream",
     "text": [
      "[5, 4, 3, 2, 1]\n"
     ]
    }
   ],
   "source": [
    "#using the reverse() method\n",
    "numbers = [1, 2, 3, 4, 5]\n",
    "numbers.reverse()\n",
    "print(numbers)  # Output: [5, 4, 3, 2, 1]"
   ]
  },
  {
   "cell_type": "code",
   "execution_count": 87,
   "metadata": {},
   "outputs": [
    {
     "name": "stdout",
     "output_type": "stream",
     "text": [
      "[5, 4, 3, 2, 1]\n"
     ]
    }
   ],
   "source": [
    "#using the reversed() function\n",
    "numbers = [1, 2, 3, 4, 5]\n",
    "reversed_numbers = list(reversed(numbers))\n",
    "print(reversed_numbers)  # Output: [5, 4, 3, 2, 1]"
   ]
  },
  {
   "cell_type": "code",
   "execution_count": 88,
   "metadata": {},
   "outputs": [
    {
     "name": "stdout",
     "output_type": "stream",
     "text": [
      "{1: 'a', 2: 'b', 3: 'c'}\n"
     ]
    }
   ],
   "source": [
    "my_dict = {'a': 1, 'b': 2, 'c': 3}\n",
    "new_dict = {v: k for k, v in my_dict.items()}\n",
    "print(new_dict)"
   ]
  },
  {
   "cell_type": "markdown",
   "metadata": {},
   "source": [
    "Functions and Lambdas in python"
   ]
  },
  {
   "cell_type": "code",
   "execution_count": 90,
   "metadata": {},
   "outputs": [
    {
     "name": "stdout",
     "output_type": "stream",
     "text": [
      "9\n",
      "<function add at 0x75cc786f0310>\n"
     ]
    }
   ],
   "source": [
    "def adder(x,y):\n",
    "    \"\"\"This is a docstring\"\"\"\n",
    "    return x+y\n",
    "print(adder(4,5))\n",
    "print(adder)"
   ]
  },
  {
   "cell_type": "code",
   "execution_count": 98,
   "metadata": {},
   "outputs": [
    {
     "name": "stdout",
     "output_type": "stream",
     "text": [
      "5.5\n"
     ]
    }
   ],
   "source": [
    "def median(values):\n",
    "    \"\"\"Return the middle value if odd or the average of the two middle values if even\"\"\"\n",
    "    values = sorted(values)\n",
    "    size = len(values)\n",
    "    if size % 2 == 0:\n",
    "        left = values[int(size/2 -1)]\n",
    "        right = values[int(size/2)]\n",
    "        return (left+right)/2\n",
    "    else:\n",
    "        return values[int(size/2)]\n",
    "\n",
    "values = [1, 2, 3, 4, 5, 6, 7, 8, 9, 10]\n",
    "print(median(values))"
   ]
  },
  {
   "cell_type": "code",
   "execution_count": 100,
   "metadata": {},
   "outputs": [
    {
     "name": "stdout",
     "output_type": "stream",
     "text": [
      "49.5\n",
      "100\n",
      "50.5\n"
     ]
    }
   ],
   "source": [
    "print(median(range(100)))\n",
    "print(median([100, 1, 200]))\n",
    "print(median([100, 0, 1, 200]))"
   ]
  },
  {
   "cell_type": "code",
   "execution_count": 101,
   "metadata": {},
   "outputs": [
    {
     "data": {
      "text/plain": [
       "tuple"
      ]
     },
     "execution_count": 101,
     "metadata": {},
     "output_type": "execute_result"
    }
   ],
   "source": [
    "#tuple - record-type data\n",
    "person = ('paul', 'Matt', 'Bass')\n",
    "type(person)"
   ]
  },
  {
   "cell_type": "code",
   "execution_count": 106,
   "metadata": {},
   "outputs": [
    {
     "name": "stdout",
     "output_type": "stream",
     "text": [
      "9\n",
      "<function adder at 0x75cc8b7f52d0>\n"
     ]
    },
    {
     "data": {
      "text/plain": [
       "True"
      ]
     },
     "execution_count": 106,
     "metadata": {},
     "output_type": "execute_result"
    }
   ],
   "source": [
    "def adder(x,y):\n",
    "    \"\"\"This is a docstring\"\"\"\n",
    "    return x+y\n",
    "print(adder(4,5))\n",
    "print(adder)\n",
    "\n",
    "#lambdas\n",
    "adder2 = lambda x,y: x+y\n",
    "adder(42, 10) == adder2(42, 10)"
   ]
  },
  {
   "cell_type": "code",
   "execution_count": 110,
   "metadata": {},
   "outputs": [
    {
     "name": "stdout",
     "output_type": "stream",
     "text": [
      "['george', 'leo', 'paul', 'ringo', 'saatvik']\n",
      "['leo', 'paul', 'ringo', 'george', 'saatvik']\n"
     ]
    }
   ],
   "source": [
    "names = ['saatvik', 'paul', 'leo', 'george', 'ringo']\n",
    "print(sorted(names))\n",
    "print(sorted(names, key = lambda name: len(name)))"
   ]
  },
  {
   "cell_type": "code",
   "execution_count": 122,
   "metadata": {},
   "outputs": [
    {
     "name": "stdout",
     "output_type": "stream",
     "text": [
      "0.8414709848078965\n"
     ]
    }
   ],
   "source": [
    "import math\n",
    "#import pandas as pd\n",
    "#df = pd.read_csv('names.csv)\n",
    "print(math.sin(1))"
   ]
  },
  {
   "cell_type": "code",
   "execution_count": 126,
   "metadata": {},
   "outputs": [
    {
     "name": "stdout",
     "output_type": "stream",
     "text": [
      "Overwriting sample.py\n"
     ]
    }
   ],
   "source": [
    "%%writefile sample.py\n",
    "def adder(x,y):\n",
    "    \"\"\"This is a docstring\"\"\"\n",
    "    return x+y\n",
    "print(adder(4,5))\n",
    "print(adder)\n",
    "\n",
    "#lambdas\n",
    "adder2 = lambda x,y: x+y\n",
    "import sample\n",
    "print(sample)\n",
    "dir(sample)"
   ]
  },
  {
   "cell_type": "code",
   "execution_count": 130,
   "metadata": {},
   "outputs": [
    {
     "name": "stdout",
     "output_type": "stream",
     "text": [
      "saatvik is not in names\n"
     ]
    }
   ],
   "source": [
    "names = ['saatvik', 'paul', 'leo', 'george', 'ringo']\n",
    "try:\n",
    "    names.find('saatvik', 'missing')\n",
    "except AttributeError:\n",
    "    print(\"saatvik is not in names\")"
   ]
  }
 ],
 "metadata": {
  "kernelspec": {
   "display_name": ".venv",
   "language": "python",
   "name": "python3"
  },
  "language_info": {
   "codemirror_mode": {
    "name": "ipython",
    "version": 3
   },
   "file_extension": ".py",
   "mimetype": "text/x-python",
   "name": "python",
   "nbconvert_exporter": "python",
   "pygments_lexer": "ipython3",
   "version": "3.10.12"
  }
 },
 "nbformat": 4,
 "nbformat_minor": 2
}
