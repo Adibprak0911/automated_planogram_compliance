{
 "cells": [
  {
   "cell_type": "code",
   "execution_count": 1,
   "metadata": {},
   "outputs": [
    {
     "name": "stdout",
     "output_type": "stream",
     "text": [
      "Error: Could not open video /home/user/Documents/automated_planogram_compliance/automated_planogram_compliance-1/database_creation.\n",
      "Extracted 0 frames to /home/user/Documents/automated_planogram_compliance/automated_planogram_compliance-1/database_creation/kurkureframes.\n"
     ]
    },
    {
     "ename": "",
     "evalue": "",
     "output_type": "error",
     "traceback": [
      "\u001b[1;31mThe Kernel crashed while executing code in the current cell or a previous cell. \n",
      "\u001b[1;31mPlease review the code in the cell(s) to identify a possible cause of the failure. \n",
      "\u001b[1;31mClick <a href='https://aka.ms/vscodeJupyterKernelCrash'>here</a> for more info. \n",
      "\u001b[1;31mView Jupyter <a href='command:jupyter.viewOutput'>log</a> for further details."
     ]
    }
   ],
   "source": [
    "import cv2\n",
    "import os\n",
    "\n",
    "#path to the video file\n",
    "video_file = '/home/user/Documents/automated_planogram_compliance/automated_planogram_compliance-1/database_creation'\n",
    "\n",
    "# # Directory to save frames\n",
    "# output_dir = 'frames'\n",
    "# if not os.path.exists(output_dir):\n",
    "#     os.makedirs(output_dir)\n",
    "\n",
    "# # Directory to save frames on your desktop\n",
    "# videoframes = os.path.join(os.path.expanduser('~'), 'Desktop')\n",
    "# output_dir = os.path.join(videoframes, 'frames')\n",
    "# if not os.path.exists(output_dir):\n",
    "#     os.makedirs(output_dir)\n",
    "\n",
    "# Specific directory to save frames\n",
    "output_dir = '/home/user/Documents/automated_planogram_compliance/automated_planogram_compliance-1/database_creation/kurkureframes'  \n",
    "if not os.path.exists(output_dir):\n",
    "    os.makedirs(output_dir)\n",
    "\n",
    "# Open the video file\n",
    "cap = cv2.VideoCapture(video_file)\n",
    "if not cap.isOpened():\n",
    "    print(f\"Error: Could not open video {video_file}.\")\n",
    "    exit()\n",
    "\n",
    "frame_number = 0\n",
    "\n",
    "# Loop through the video frames\n",
    "while True:\n",
    "    ret, frame = cap.read()\n",
    "\n",
    "    # If the frame was read correctly, ret is True\n",
    "    if not ret:\n",
    "        break\n",
    "\n",
    "    # Save the frame as an image\n",
    "    frame_filename = os.path.join(output_dir, f'frame_{frame_number:04d}.jpg')\n",
    "    cv2.imwrite(frame_filename, frame)\n",
    "\n",
    "    frame_number += 1\n",
    "\n",
    "    # Display the frame\n",
    "    cv2.imshow('Frame', frame)\n",
    "    \n",
    "    # Press 'q' on keyboard to exit\n",
    "    if cv2.waitKey(25) & 0xFF == ord('q'):\n",
    "        break\n",
    "\n",
    "# Release the video capture object and close all windows\n",
    "cap.release()\n",
    "# cv2.destroyAllWindows()\n",
    "\n",
    "print(f\"Extracted {frame_number} frames to {output_dir}.\")\n"
   ]
  }
 ],
 "metadata": {
  "kernelspec": {
   "display_name": "Python 3",
   "language": "python",
   "name": "python3"
  },
  "language_info": {
   "codemirror_mode": {
    "name": "ipython",
    "version": 3
   },
   "file_extension": ".py",
   "mimetype": "text/x-python",
   "name": "python",
   "nbconvert_exporter": "python",
   "pygments_lexer": "ipython3",
   "version": "3.10.12"
  }
 },
 "nbformat": 4,
 "nbformat_minor": 2
}
