{
 "cells": [
  {
   "cell_type": "code",
   "execution_count": 2,
   "metadata": {},
   "outputs": [],
   "source": [
    "import cv2\n",
    "import os\n",
    "\n",
    "#path to the video file\n",
    "video_file = '/home/user/Documents/automated_planogram_compliance/automated_planogram_compliance-1/database_creation'\n",
    "\n",
    "# # Directory to save frames\n",
    "# output_dir = 'frames'\n",
    "# if not os.path.exists(output_dir):\n",
    "#     os.makedirs(output_dir)\n",
    "\n",
    "# # Directory to save frames on your desktop\n",
    "# videoframes = os.path.join(os.path.expanduser('~'), 'Desktop')\n",
    "# output_dir = os.path.join(videoframes, 'frames')\n",
    "# if not os.path.exists(output_dir):\n",
    "#     os.makedirs(output_dir)\n",
    "\n",
    "\n",
    "\n",
    "# Open the video file\n",
    "cap = cv2.VideoCapture(video_file)\n"
   ]
  }
 ],
 "metadata": {
  "kernelspec": {
   "display_name": "Python 3",
   "language": "python",
   "name": "python3"
  },
  "language_info": {
   "codemirror_mode": {
    "name": "ipython",
    "version": 3
   },
   "file_extension": ".py",
   "mimetype": "text/x-python",
   "name": "python",
   "nbconvert_exporter": "python",
   "pygments_lexer": "ipython3",
   "version": "3.10.12"
  }
 },
 "nbformat": 4,
 "nbformat_minor": 2
}
